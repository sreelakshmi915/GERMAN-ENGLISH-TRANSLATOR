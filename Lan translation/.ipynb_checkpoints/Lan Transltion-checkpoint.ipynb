{
 "cells": [
  {
   "cell_type": "code",
   "execution_count": 4,
   "metadata": {},
   "outputs": [
    {
     "name": "stderr",
     "output_type": "stream",
     "text": [
      "Using TensorFlow backend.\n"
     ]
    }
   ],
   "source": [
    "import string\n",
    "import re\n",
    "from numpy import array, argmax, random, take\n",
    "import pandas as pd\n",
    "from keras.models import Sequential\n",
    "from keras.layers import Dense, LSTM, Embedding, RepeatVector\n",
    "from keras.preprocessing.text import Tokenizer\n",
    "from keras.callbacks import ModelCheckpoint\n",
    "from keras.preprocessing.sequence import pad_sequences\n",
    "from keras.models import load_model\n",
    "from keras import optimizers\n",
    "import matplotlib.pyplot as plt\n",
    "%matplotlib inline\n",
    "pd.set_option('display.max_colwidth', 200)\n"
   ]
  },
  {
   "cell_type": "code",
   "execution_count": 5,
   "metadata": {},
   "outputs": [],
   "source": [
    "#to read\n",
    "def read_data(filename):\n",
    "    file= open(filename,mode=\"rt\",encoding='UTF-8')#TO OPEN\n",
    "    text = file.read()\n",
    "    file.close()\n",
    "    return text\n",
    "    \n",
    "    "
   ]
  },
  {
   "cell_type": "code",
   "execution_count": 6,
   "metadata": {},
   "outputs": [],
   "source": [
    "def to_lines(text):\n",
    "      sents = text.strip().split('\\n') #formed sentences\n",
    "      sents = [i.split('\\t') for i in sents]\n",
    "      return sents"
   ]
  },
  {
   "cell_type": "code",
   "execution_count": null,
   "metadata": {},
   "outputs": [],
   "source": []
  },
  {
   "cell_type": "code",
   "execution_count": 7,
   "metadata": {},
   "outputs": [
    {
     "name": "stdout",
     "output_type": "stream",
     "text": [
      "[['Go.' 'Geh.']\n",
      " ['Hi.' 'Hallo!']\n",
      " ['Hi.' 'Grüß Gott!']\n",
      " ...\n",
      " ['Who else is in there?' 'Wer ist noch dort drin?']\n",
      " ['Who else was in here?' 'Wer war sonst noch hier drin?']\n",
      " ['Who fixed the window?' 'Wer hat das Fenster hergerichtet?']]\n"
     ]
    }
   ],
   "source": [
    "file = read_data(\"deu.txt\")\n",
    "ger_eng = to_lines(file)\n",
    "ger_eng=array(ger_eng)#converted to array\n",
    "\n",
    "ger_eng = ger_eng[:50000,:2]#we ned 1st 5000 rows\n",
    "print(ger_eng)\n",
    "\n"
   ]
  },
  {
   "cell_type": "code",
   "execution_count": 47,
   "metadata": {},
   "outputs": [
    {
     "data": {
      "text/plain": [
       "array([['Go.', 'Geh.'],\n",
       "       ['Hi.', 'Hallo!'],\n",
       "       ['Hi.', 'Grüß Gott!'],\n",
       "       ...,\n",
       "       ['Who else is in there?', 'Wer ist noch dort drin?'],\n",
       "       ['Who else was in here?', 'Wer war sonst noch hier drin?'],\n",
       "       ['Who fixed the window?', 'Wer hat das Fenster hergerichtet?']],\n",
       "      dtype='<U537')"
      ]
     },
     "execution_count": 47,
     "metadata": {},
     "output_type": "execute_result"
    }
   ],
   "source": [
    "ger_eng"
   ]
  },
  {
   "cell_type": "code",
   "execution_count": 8,
   "metadata": {},
   "outputs": [],
   "source": [
    "#Text Pre-Processing\n",
    "#cleaning\n",
    "# Remove punctuation\n",
    "ger_eng[:,0] = [s.translate(str.maketrans('', '', string.punctuation)) for s in ger_eng[:,0]]\n",
    "ger_eng[:,1] = [s.translate(str.maketrans('', '', string.punctuation)) for s in ger_eng[:,1]]"
   ]
  },
  {
   "cell_type": "code",
   "execution_count": 49,
   "metadata": {},
   "outputs": [
    {
     "name": "stdout",
     "output_type": "stream",
     "text": [
      "[['Go' 'Geh']\n",
      " ['Hi' 'Hallo']\n",
      " ['Hi' 'Grüß Gott']\n",
      " ...\n",
      " ['Who else is in there' 'Wer ist noch dort drin']\n",
      " ['Who else was in here' 'Wer war sonst noch hier drin']\n",
      " ['Who fixed the window' 'Wer hat das Fenster hergerichtet']]\n"
     ]
    }
   ],
   "source": [
    "print(ger_eng)"
   ]
  },
  {
   "cell_type": "code",
   "execution_count": 50,
   "metadata": {},
   "outputs": [
    {
     "name": "stdout",
     "output_type": "stream",
     "text": [
      "50000\n"
     ]
    }
   ],
   "source": [
    "print(len(ger_eng))"
   ]
  },
  {
   "cell_type": "code",
   "execution_count": 52,
   "metadata": {},
   "outputs": [],
   "source": [
    "for i in range(len(ger_eng)):\n",
    "    ger_eng[i,0] = ger_eng[i,0].lower()\n",
    "    ger_eng[i,1] = ger_eng[i,1].lower()"
   ]
  },
  {
   "cell_type": "code",
   "execution_count": 9,
   "metadata": {},
   "outputs": [],
   "source": [
    "# Text to Sequence Conversion\n",
    "\n",
    "#A Seq2Seq model requires that we convert both the input and the output sentences into integer sequences of fixed length.\n",
    "#spliting german englidh pair to german and english seperate pairs\n",
    "#initialize empty list\n",
    "# populate the lists with sentence lengths\n",
    "ger=[]\n",
    "eng =[]\n",
    "for i in ger_eng[:,0]:\n",
    "      eng.append(len(i.split()))\n",
    "\n",
    "for i in ger_eng[:,1]:\n",
    "      ger.append(len(i.split()))\n",
    "\n",
    "    "
   ]
  },
  {
   "cell_type": "code",
   "execution_count": null,
   "metadata": {},
   "outputs": [],
   "source": []
  },
  {
   "cell_type": "code",
   "execution_count": 10,
   "metadata": {},
   "outputs": [
    {
     "data": {
      "image/png": "[encoded data removed]",
      "text/plain": [
       "<Figure size 432x288 with 2 Axes>"
      ]
     },
     "metadata": {
      "needs_background": "light"
     },
     "output_type": "display_data"
    }
   ],
   "source": [
    "\n",
    "length_df = pd.DataFrame({'eng':eng, 'ger':ger}) #converting to pd dataframe\n",
    "\n",
    "length_df.hist(bins = 30)#ploting histogram\n",
    "plt.show()"
   ]
  },
  {
   "cell_type": "code",
   "execution_count": 17,
   "metadata": {},
   "outputs": [],
   "source": [
    "# function to build a tokenizer\n",
    "def tokenization(lines):\n",
    "    tokenizer = Tokenizer()\n",
    "    tokenizer.fit_on_texts(lines)\n",
    "    return tokenizer"
   ]
  },
  {
   "cell_type": "code",
   "execution_count": 31,
   "metadata": {},
   "outputs": [],
   "source": [
    "# prepare english tokenizer\n",
    "eng_tokenizer = tokenization(ger_eng[:, 0])\n",
    "eng_vocab_size = len(eng_tokenizer.word_index) + 1\n",
    "eng_length = 8"
   ]
  },
  {
   "cell_type": "code",
   "execution_count": 32,
   "metadata": {},
   "outputs": [],
   "source": [
    "#german tokenizer\n",
    "ger_tokenizer = tokenization(ger_eng[:,1])\n",
    "ger_vocab_size = len(ger_tokenizer.word_index)+1\n",
    "ger_length = 8"
   ]
  },
  {
   "cell_type": "code",
   "execution_count": 33,
   "metadata": {},
   "outputs": [
    {
     "data": {
      "text/plain": [
       "10137"
      ]
     },
     "execution_count": 33,
     "metadata": {},
     "output_type": "execute_result"
    }
   ],
   "source": [
    "ger_vocab_size\n"
   ]
  },
  {
   "cell_type": "code",
   "execution_count": 34,
   "metadata": {},
   "outputs": [],
   "source": [
    "# encode and pad sequences\n",
    "def encode_sequences(tokenizer, length, lines):\n",
    "         # integer encode sequences\n",
    "         seq = tokenizer.texts_to_sequences(lines)\n",
    "         # pad sequences with 0 values\n",
    "         seq = pad_sequences(seq, maxlen=length, padding='post')\n",
    "         return seq"
   ]
  },
  {
   "cell_type": "code",
   "execution_count": 35,
   "metadata": {},
   "outputs": [],
   "source": [
    "#Model Building\n",
    "#We will now split the data into train and test set for model training and evaluation, respectively\n",
    "from sklearn.model_selection import train_test_split\n",
    "\n",
    "# split data into train and test set\n",
    "train, test  = train_test_split(ger_eng, test_size=0.2, random_state = 12)\n"
   ]
  },
  {
   "cell_type": "code",
   "execution_count": 43,
   "metadata": {},
   "outputs": [],
   "source": [
    "#We will encode German sentences as the input sequences and English sentences as the target sequences. \n",
    "# prepare training data\n",
    "X_train = encode_sequences(ger_tokenizer, ger_length, train[:, 1])\n",
    "Y_train = encode_sequences(eng_tokenizer, eng_length, train[:, 0])"
   ]
  },
  {
   "cell_type": "code",
   "execution_count": 44,
   "metadata": {},
   "outputs": [],
   "source": [
    "# prepare validation data\n",
    "X_test = encode_sequences(ger_tokenizer, ger_length, test[:, 1])\n",
    "Y_test = encode_sequences(eng_tokenizer, eng_length, test[:, 0])"
   ]
  },
  {
   "cell_type": "code",
   "execution_count": null,
   "metadata": {},
   "outputs": [],
   "source": [
    "#defining our Seq2Seq model architecture:\n",
    "#For the encoder, we will use an embedding layer and an LSTM layer\n",
    "#For the decoder, we will use another LSTM layer followed by a dense layer"
   ]
  },
  {
   "cell_type": "code",
   "execution_count": 45,
   "metadata": {},
   "outputs": [],
   "source": [
    "# build NMT model\n",
    "def define_model(in_vocab,out_vocab, in_timesteps,out_timesteps,units):\n",
    "      model = Sequential()\n",
    "      model.add(Embedding(in_vocab, units, input_length=in_timesteps, mask_zero=True))\n",
    "      model.add(LSTM(units))\n",
    "      model.add(RepeatVector(out_timesteps))\n",
    "      model.add(LSTM(units, return_sequences=True))\n",
    "      model.add(Dense(out_vocab, activation='softmax'))\n",
    "      return model"
   ]
  },
  {
   "cell_type": "code",
   "execution_count": 46,
   "metadata": {},
   "outputs": [],
   "source": [
    "# model compilation\n",
    "model = define_model(ger_vocab_size, eng_vocab_size, ger_length, eng_length, 512)"
   ]
  },
  {
   "cell_type": "code",
   "execution_count": 47,
   "metadata": {},
   "outputs": [],
   "source": [
    "rms = optimizers.RMSprop(lr=0.001)\n",
    "model.compile(optimizer=rms, loss='sparse_categorical_crossentropy')"
   ]
  },
  {
   "cell_type": "code",
   "execution_count": null,
   "metadata": {},
   "outputs": [],
   "source": [
    "#we have used ‘sparse_categorical_crossentropy‘ as the loss function. This is because the function allows us to use the target sequence as is, instead of the one-hot encoded format. One-hot encoding the target sequences using such a huge vocabulary might consume our system’s entire memory.\n",
    "#We will train it for 30 epochs and with a batch size of 512 with a validation split of 20%. 80% of the data will be used for training the model and the rest for evaluating it. You may change and play around with these hyperparameters.\n",
    "# ModelCheckpoint() function to save the model with the lowest validation loss. I personally prefer this method over early stopping."
   ]
  },
  {
   "cell_type": "code",
   "execution_count": 50,
   "metadata": {},
   "outputs": [
    {
     "name": "stdout",
     "output_type": "stream",
     "text": [
      "Train on 32000 samples, validate on 8000 samples\n",
      "Epoch 1/5\n",
      "32000/32000 [==============================] - 276s 9ms/step - loss: 1.6571 - val_loss: 1.8506\n",
      "\n",
      "Epoch 00001: val_loss improved from inf to 1.85062, saving model to translation_model\n",
      "Epoch 2/5\n",
      "32000/32000 [==============================] - 276s 9ms/step - loss: 1.5563 - val_loss: 1.7746\n",
      "\n",
      "Epoch 00002: val_loss improved from 1.85062 to 1.77459, saving model to translation_model\n",
      "Epoch 3/5\n",
      "32000/32000 [==============================] - 275s 9ms/step - loss: 1.4594 - val_loss: 1.7232\n",
      "\n",
      "Epoch 00003: val_loss improved from 1.77459 to 1.72316, saving model to translation_model\n",
      "Epoch 4/5\n",
      "32000/32000 [==============================] - 276s 9ms/step - loss: 1.3696 - val_loss: 1.6634\n",
      "\n",
      "Epoch 00004: val_loss improved from 1.72316 to 1.66336, saving model to translation_model\n",
      "Epoch 5/5\n",
      "32000/32000 [==============================] - 277s 9ms/step - loss: 1.2813 - val_loss: 1.6131\n",
      "\n",
      "Epoch 00005: val_loss improved from 1.66336 to 1.61312, saving model to translation_model\n"
     ]
    }
   ],
   "source": [
    "filename = 'translation_model'\n",
    "checkpoint = ModelCheckpoint(filename, monitor='val_loss', verbose=1, save_best_only=True, mode='min')\n",
    "\n",
    "# train model\n",
    "history = model.fit(X_train, Y_train.reshape(Y_train.shape[0], Y_train.shape[1], 1),\n",
    "                    epochs=5, batch_size=512, validation_split = 0.2,callbacks=[checkpoint], \n",
    "                    verbose=1)"
   ]
  },
  {
   "cell_type": "code",
   "execution_count": 51,
   "metadata": {},
   "outputs": [
    {
     "data": {
      "image/png": "[encoded data removed]",
      "text/plain": [
       "<Figure size 432x288 with 1 Axes>"
      ]
     },
     "metadata": {
      "needs_background": "light"
     },
     "output_type": "display_data"
    }
   ],
   "source": [
    "plt.plot(history.history['loss'])\n",
    "plt.plot(history.history['val_loss'])\n",
    "plt.legend(['train','validation'])\n",
    "plt.show()"
   ]
  },
  {
   "cell_type": "code",
   "execution_count": 52,
   "metadata": {},
   "outputs": [
    {
     "name": "stderr",
     "output_type": "stream",
     "text": [
      "C:\\Users\\ASUS\\Anaconda3\\lib\\site-packages\\tensorflow_core\\python\\framework\\indexed_slices.py:424: UserWarning: Converting sparse IndexedSlices to a dense Tensor of unknown shape. This may consume a large amount of memory.\n",
      "  \"Converting sparse IndexedSlices to a dense Tensor of unknown shape. \"\n"
     ]
    }
   ],
   "source": [
    "#LOAD MODEL\n",
    "model = load_model('translation_model')\n",
    "preds = model.predict_classes(X_test.reshape((X_test.shape[0],X_test.shape[1])))"
   ]
  },
  {
   "cell_type": "code",
   "execution_count": null,
   "metadata": {},
   "outputs": [],
   "source": [
    "#These predictions are sequences of integers. We need to convert these integers to their corresponding words. Let’s define a function to do this:"
   ]
  },
  {
   "cell_type": "code",
   "execution_count": 53,
   "metadata": {},
   "outputs": [],
   "source": [
    "def get_word(n, tokenizer):\n",
    "      for word, index in tokenizer.word_index.items():\n",
    "          if index == n:\n",
    "              return word\n",
    "      return None"
   ]
  },
  {
   "cell_type": "code",
   "execution_count": 55,
   "metadata": {},
   "outputs": [],
   "source": [
    "#Convert predictions into text (English):\n",
    "preds_text = []\n",
    "for i in preds:\n",
    "    temp = []\n",
    "    for j in range(len(i)):\n",
    "        t = get_word(i[j], eng_tokenizer)\n",
    "        if j > 0:\n",
    "            if (t == get_word(i[j-1], eng_tokenizer)) or (t == None):\n",
    "                    temp.append('')\n",
    "            else:\n",
    "                    temp.append(t)\n",
    "        else:\n",
    "                if(t == None):\n",
    "                        temp.append('')\n",
    "                else:\n",
    "                        temp.append(t) \n",
    "\n",
    "    preds_text.append(' '.join(temp))"
   ]
  },
  {
   "cell_type": "code",
   "execution_count": 56,
   "metadata": {},
   "outputs": [],
   "source": [
    "#Let’s put the original English sentences in the test dataset and the predicted sentences in a dataframe:\n",
    "pred_df = pd.DataFrame({'actual' : test[:,0], 'predicted' : preds_text})"
   ]
  },
  {
   "cell_type": "code",
   "execution_count": 57,
   "metadata": {},
   "outputs": [
    {
     "data": {
      "text/html": [
       "<div>\n",
       "<style scoped>\n",
       "    .dataframe tbody tr th:only-of-type {\n",
       "        vertical-align: middle;\n",
       "    }\n",
       "\n",
       "    .dataframe tbody tr th {\n",
       "        vertical-align: top;\n",
       "    }\n",
       "\n",
       "    .dataframe thead th {\n",
       "        text-align: right;\n",
       "    }\n",
       "</style>\n",
       "<table border=\"1\" class=\"dataframe\">\n",
       "  <thead>\n",
       "    <tr style=\"text-align: right;\">\n",
       "      <th></th>\n",
       "      <th>actual</th>\n",
       "      <th>predicted</th>\n",
       "    </tr>\n",
       "  </thead>\n",
       "  <tbody>\n",
       "    <tr>\n",
       "      <td>6335</td>\n",
       "      <td>Tom didnt pass</td>\n",
       "      <td>tom wasnt be</td>\n",
       "    </tr>\n",
       "    <tr>\n",
       "      <td>2703</td>\n",
       "      <td>Do you like bananas</td>\n",
       "      <td>do you like</td>\n",
       "    </tr>\n",
       "    <tr>\n",
       "      <td>5661</td>\n",
       "      <td>I have what I need</td>\n",
       "      <td>i like to i</td>\n",
       "    </tr>\n",
       "    <tr>\n",
       "      <td>1058</td>\n",
       "      <td>I think Tom is drunk</td>\n",
       "      <td>i think tom is</td>\n",
       "    </tr>\n",
       "    <tr>\n",
       "      <td>1460</td>\n",
       "      <td>A dog has four legs</td>\n",
       "      <td>a dog has a</td>\n",
       "    </tr>\n",
       "    <tr>\n",
       "      <td>4458</td>\n",
       "      <td>I wrote it for Tom</td>\n",
       "      <td>i saw it for tom</td>\n",
       "    </tr>\n",
       "    <tr>\n",
       "      <td>9308</td>\n",
       "      <td>I love garlic</td>\n",
       "      <td>i love movies</td>\n",
       "    </tr>\n",
       "    <tr>\n",
       "      <td>9316</td>\n",
       "      <td>I loved it</td>\n",
       "      <td>i said it</td>\n",
       "    </tr>\n",
       "    <tr>\n",
       "      <td>2977</td>\n",
       "      <td>I know where she is</td>\n",
       "      <td>i know who tom is</td>\n",
       "    </tr>\n",
       "    <tr>\n",
       "      <td>5899</td>\n",
       "      <td>The boys were quiet</td>\n",
       "      <td>the are</td>\n",
       "    </tr>\n",
       "    <tr>\n",
       "      <td>8158</td>\n",
       "      <td>Tom was assertive</td>\n",
       "      <td>tom was mad</td>\n",
       "    </tr>\n",
       "    <tr>\n",
       "      <td>6555</td>\n",
       "      <td>May we go home</td>\n",
       "      <td>can we go home</td>\n",
       "    </tr>\n",
       "    <tr>\n",
       "      <td>1043</td>\n",
       "      <td>They want Tom</td>\n",
       "      <td>they know tom</td>\n",
       "    </tr>\n",
       "    <tr>\n",
       "      <td>1100</td>\n",
       "      <td>I need a good job</td>\n",
       "      <td>i need a</td>\n",
       "    </tr>\n",
       "    <tr>\n",
       "      <td>316</td>\n",
       "      <td>The time has come</td>\n",
       "      <td>the mine went</td>\n",
       "    </tr>\n",
       "  </tbody>\n",
       "</table>\n",
       "</div>"
      ],
      "text/plain": [
       "                    actual             predicted\n",
       "6335        Tom didnt pass     tom wasnt be     \n",
       "2703   Do you like bananas      do you like     \n",
       "5661    I have what I need       i like to i    \n",
       "1058  I think Tom is drunk    i think tom is    \n",
       "1460   A dog has four legs       a dog has a    \n",
       "4458    I wrote it for Tom   i saw it for tom   \n",
       "9308         I love garlic    i love movies     \n",
       "9316            I loved it        i said it     \n",
       "2977   I know where she is  i know who tom is   \n",
       "5899   The boys were quiet         the are      \n",
       "8158     Tom was assertive      tom was mad     \n",
       "6555        May we go home    can we go home    \n",
       "1043         They want Tom    they know tom     \n",
       "1100     I need a good job         i need a     \n",
       "316      The time has come    the mine went     "
      ]
     },
     "execution_count": 57,
     "metadata": {},
     "output_type": "execute_result"
    }
   ],
   "source": [
    "# print 15 rows randomly\n",
    "pred_df.sample(15)"
   ]
  },
  {
   "cell_type": "code",
   "execution_count": null,
   "metadata": {},
   "outputs": [],
   "source": []
  },
  {
   "cell_type": "code",
   "execution_count": null,
   "metadata": {},
   "outputs": [],
   "source": []
  }
 ],
 "metadata": {
  "kernelspec": {
   "display_name": "Python 3",
   "language": "python",
   "name": "python3"
  },
  "language_info": {
   "codemirror_mode": {
    "name": "ipython",
    "version": 3
   },
   "file_extension": ".py",
   "mimetype": "text/x-python",
   "name": "python",
   "nbconvert_exporter": "python",
   "pygments_lexer": "ipython3",
   "version": "3.7.4"
  }
 },
 "nbformat": 4,
 "nbformat_minor": 2
}
